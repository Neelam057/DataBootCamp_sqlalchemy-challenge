#default style guide
from matplotlib import style
style.use('fivethirtyeight')


# Import the dependencies
import pandas as pd
import numpy as np
import datetime

# For plotting
import matplotlib.pyplot as plt
import seaborn as sns
import scipy.stats as st

# Python SQL toolkit and Object Relational Mapper
import sqlalchemy
from sqlalchemy.ext.automap import automap_base
from sqlalchemy.orm import Session
from sqlalchemy import create_engine, inspect, text, func





# Create engine using the `hawaii.sqlite` database file
engine = create_engine("sqlite:///Resources/hawaii.sqlite")



# Open the Threads
session = Session(engine) # ORM
conn = engine.connect() # Raw SQL/Pandas


# Create the inspector and connect it to the engine
inspector = inspect(engine)

# Collect the names of tables within the database
tables = inspector.get_table_names()

# Using the inspector to print the column names within the 'dow' table and its types
for table in tables:
    print(table)
    print("--------")
    columns = inspector.get_columns(table)
    for column in columns:
        print(column["name"], column["type"])

    print()


# Declare a Base using `automap_base()`
Base = automap_base()
# Use the Base class to reflect the database tables
Base.prepare(engine)
# Print all of the classes mapped to the Base
Base.classes.keys()


# Assign the measurement class to a variable called `Measurement` and
# the station class to a variable called `Station`
Measurement = Base.classes.measurement
Station = Base.classes.station


query = text("SELECT * FROM measurement")
df = pd.read_sql(query, con = conn)
df.head()


query = text("SELECT * FROM station")
df = pd.read_sql(query, con = conn)
df.head()





# Find the most recent date in the data set.(using raw sql)
most_recent_date = text("""SELECT 
                                max(date)
                            FROM 
                                measurement
                        """)
conn.execute(most_recent_date).fetchall()


# Design a query to retrieve the last 12 months of precipitation data and plot the results.
# Starting from the most recent data point in the database.
# Calculate the date one year from the last date in data set.
# Perform a query to retrieve the data and precipitation scores
last_12_months_prcp_data = text("""SELECT 
                                        date, prcp 
                                    FROM 
                                        measurement
                                    WHERE
                                        date >='2016-08-23' AND date <='2017-08-23';
                                """)
# Save the query results as a Pandas DataFrame. Explicitly set the column names
result = conn.execute(last_12_months_prcp_data).fetchall()
precipitation_df = pd.DataFrame(result, columns=['Date', 'Precipitation'])

# Sort the dataframe by date
precipitation_df= precipitation_df.sort_values(by='Date')
precipitation_df


# Use Pandas Plotting with Matplotlib to plot the data
plt.figure(figsize=(18,6))  # Set the figure size
precipitation_df.plot(x='Date', y='Precipitation')
plt.legend(loc='upper right')

# Set the plot title and labels
plt.title('Precipitation over the Last 12 Months')
plt.xlabel('Date')
plt.ylabel('Precipitation (inches)')

# Rotate x-axis labels for better readability
plt.xticks(rotation=90)

# Tight layout to ensure everything fits nicely
plt.tight_layout()

# Save the graph
plt.savefig("Precipitation_plot.png")

# Show the plot
plt.show()


# Find the most recent date in the data set. (using ORM)
most_recent_date = session.query(Measurement.date).order_by(Measurement.date.desc()).first()[0]
most_recent_date



# Design a query to retrieve the last 12 months of precipitation data and plot the results.
# Starting from the most recent data point in the database.
# Calculate the date one year from the last date in data set.
# Perform a query to retrieve the data and precipitation scores
last_12_months_prcp_data= session.query(Measurement.date, Measurement.prcp)\
                                        .filter(Measurement.date >= '2016-08-23')\
                                        .filter(Measurement.date <= '2017-08-23')\
                                        .order_by(Measurement.date).all()

# Save the query results as a Pandas DataFrame. Explicitly set the column names
precipitation_df = pd.DataFrame(last_12_months_prcp_data, columns=['Date','Precipitation'])

# Sort the dataframe by date
precipitation_df= precipitation_df.sort_values(by='Date')
precipitation_df


# Use Pandas Plotting with Matplotlib to plot the data

plt.figure(figsize=(18,6))  # Set the figure size
precipitation_df.plot(x='Date', y='Precipitation')
plt.legend(loc='upper right')

# Set the plot title and labels
plt.title('Precipitation over the Last 12 Months')
plt.xlabel('Date')
plt.ylabel('Precipitation (inches)')

# Rotate x-axis labels for better readability
plt.xticks(rotation=90)

# Tight layout to ensure everything fits nicely
plt.tight_layout()

# Save the graph
plt.savefig("Precipitation_plot.png")
# Show the plot
plt.show()



# Use Pandas to calculate the summary statistics for the precipitation data
precipitation_df.describe()





# Design a query to calculate the total number of stations in the dataset(using RAW SQL)
total_stations = text("""SELECT 
                    count(distinct(station))
                FROM 
                    measurement
            """)
conn.execute(total_stations).fetchall()


# Design a query to find the most active stations (i.e. which stations have the most rows?)
# List the stations and their counts in descending order.
result = text("""SELECT 
                    station, count(station) as "station_count" 
                FROM 
                    measurement
                GROUP BY 
                    station
                ORDER BY
                    station_count desc;
                """)
conn.execute(result).fetchall()



# Using the most active station id from the previous query, calculate the lowest, highest, and average temperature.
temp_stats = text("""SELECT 
                    min(Measurement.tobs), max(Measurement.tobs), avg(Measurement.tobs)
                FROM 
                    measurement
                WHERE 
                    station = 'USC00519281';
                """)
conn.execute(temp_stats).fetchall()


# Using the most active station id
# Query the last 12 months of temperature observation data for this station and plot the results as a histogram
last_12_months_temp_data = text("""SELECT 
                                        tobs
                                    FROM 
                                        measurement
                                    WHERE station = 'USC00519281'
                                        AND 
                                        date >='2016-08-23' AND date <='2017-08-23';
                                """)
# Save the query results as a Pandas DataFrame. Explicitly set the column names
result = conn.execute(last_12_months_temp_data).fetchall()
station_temp_df = pd.DataFrame(result, columns=['Temperature'])

# Sort the dataframe by date
station_temp_df= station_temp_df.sort_values(by='Temperature')
station_temp_df.head()


# plot a histogram of the results
station_temp_df["Temperature"].hist(bins=12)

# Set the plot title and labels
plt.title("Temperature Observations for Station USC00519281")
plt.xlabel("Temperature")
plt.ylabel("Frequency")

# Save the graph
plt.savefig("Temperature_histogram.png")

# Show the plot
plt.show()


# Design a query to calculate the total number of stations in the dataset (Using ORM)
total_stations = session.query(Station.station).count()
total_stations


# Design a query to find the most active stations (i.e. which stations have the most rows?)
# List the stations and their counts in descending order.
result = session.query(
    Measurement.station, 
    func.count(Measurement.id)
).group_by(Measurement.station).order_by(func.count(Measurement.id).desc()).all()
result


# Using the most active station id from the previous query, calculate the lowest, highest, and average temperature.
temp_stats = session.query(func.min(Measurement.tobs).label('min_temp'),
                           func.max(Measurement.tobs).label('max_temp'),
                           func.avg(Measurement.tobs).label('avg_temp')).filter(Measurement.station=='USC00519281').all()
temp_stats


# Using the most active station id
# Query the last 12 months of temperature observation data for this station and plot the results as a histogram
last_12_months_temp_data = session.query(Measurement.tobs)\
                            .filter(Measurement.date >= '2016-08-23')\
                            .filter(Measurement.date <= '2017-08-23')\
                            .filter(Measurement.station == "USC00519281").all()
# Save the query results as a Pandas DataFrame. Explicitly set the column names
station_temp_df = pd.DataFrame(last_12_months_temp_data, columns=["Temperature"])

# Sort the dataframe by date
station_temp_df= station_temp_df.sort_values(by='Temperature')
station_temp_df.head()



# Plot a histogram of the temperatures
# plot a histogram of the results
station_temp_df["Temperature"].hist(bins=12)

# Set the plot title and labels
plt.title("Temperature Observations for Station USC00519281")
plt.xlabel("Temperature")
plt.ylabel("Frequency")

# Save the graph
plt.savefig("Temperature_histogram.png")

# Show the plot
plt.show()





# Close Session
session.close()
engine.dispose()



